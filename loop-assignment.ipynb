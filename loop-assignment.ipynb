{
 "cells": [
  {
   "cell_type": "markdown",
   "id": "dc122085-e987-4d8b-a27f-fc4c25acae92",
   "metadata": {},
   "source": [
    "# 1.Write a Python program to print all the numbers from 1 to 10 using a for loop."
   ]
  },
  {
   "cell_type": "code",
   "execution_count": 1,
   "id": "4d52c5cb-3138-4154-bbb9-283c6d4a9607",
   "metadata": {},
   "outputs": [
    {
     "name": "stdout",
     "output_type": "stream",
     "text": [
      "1\n",
      "2\n",
      "3\n",
      "4\n",
      "5\n",
      "6\n",
      "7\n",
      "8\n",
      "9\n",
      "10\n"
     ]
    }
   ],
   "source": [
    "for i in range(1,11):\n",
    "    print(i)"
   ]
  },
  {
   "cell_type": "markdown",
   "id": "b961ba8a-f67d-4117-bbc5-7b553d31c6d1",
   "metadata": {},
   "source": [
    "# 2. Write a Python program to find the sum of all numbers from 1 to 100 using a for loop."
   ]
  },
  {
   "cell_type": "code",
   "execution_count": 2,
   "id": "21a41614-271d-474b-8f64-dadbe26800f8",
   "metadata": {},
   "outputs": [
    {
     "name": "stdout",
     "output_type": "stream",
     "text": [
      "5050\n"
     ]
    }
   ],
   "source": [
    "sum = 0\n",
    "for i in range(1,101):\n",
    "    sum = sum + i\n",
    "print(sum)"
   ]
  },
  {
   "cell_type": "markdown",
   "id": "ecf8ba05-c4b0-4120-b295-41ec625eb760",
   "metadata": {},
   "source": [
    "# 3. Write a python program to print the multiplication table of a given number using a for loop."
   ]
  },
  {
   "cell_type": "code",
   "execution_count": 3,
   "id": "3403ea71-37a3-4f6b-9ca3-bae1bcf2f7bb",
   "metadata": {},
   "outputs": [
    {
     "name": "stdin",
     "output_type": "stream",
     "text": [
      "Enter a number to create that mul table: 5\n"
     ]
    },
    {
     "name": "stdout",
     "output_type": "stream",
     "text": [
      "5\n",
      "10\n",
      "15\n",
      "20\n",
      "25\n",
      "30\n",
      "35\n",
      "40\n",
      "45\n",
      "50\n"
     ]
    }
   ],
   "source": [
    "num = int(input(\"Enter a number to create that mul table:\"))\n",
    "for i in range(1,11):\n",
    "    print(num*i)"
   ]
  },
  {
   "cell_type": "markdown",
   "id": "0a4d24a7-ceb1-4891-aa13-341cf7200e7e",
   "metadata": {},
   "source": [
    "# 4. Write a python program to count the number of even and odd from a series of numbers using a for loop."
   ]
  },
  {
   "cell_type": "code",
   "execution_count": 4,
   "id": "5ad01b91-6344-4cde-8475-ff4b988d13e3",
   "metadata": {},
   "outputs": [
    {
     "name": "stdout",
     "output_type": "stream",
     "text": [
      "no. of odd numbers: 25\n",
      "no. of even numbers: 24\n"
     ]
    }
   ],
   "source": [
    "odd = 0\n",
    "even = 0\n",
    "for i in range(1,50):\n",
    "    if (i%2 == 0):\n",
    "        even+=1\n",
    "    else:\n",
    "        odd +=1\n",
    "print(\"no. of odd numbers:\",odd)\n",
    "print(\"no. of even numbers:\",even)"
   ]
  },
  {
   "cell_type": "markdown",
   "id": "c4affd63-c4ad-4864-8f33-5acc13ead995",
   "metadata": {},
   "source": [
    "# 5. Write a python program to find the factorial of a number using a for loop."
   ]
  },
  {
   "cell_type": "code",
   "execution_count": 5,
   "id": "be8ffe0d-663b-48b3-bb1e-df3cc141b4be",
   "metadata": {},
   "outputs": [
    {
     "name": "stdin",
     "output_type": "stream",
     "text": [
      "Enter a number to find factorial: 5\n"
     ]
    },
    {
     "name": "stdout",
     "output_type": "stream",
     "text": [
      "Factorial of 5 is 120\n"
     ]
    }
   ],
   "source": [
    "number = int(input(\"Enter a number to find factorial:\"))\n",
    "factorial = 1\n",
    "for i in range(1,number+1):\n",
    "        factorial *= i\n",
    "print(f\"Factorial of {number} is {factorial}\")"
   ]
  },
  {
   "cell_type": "markdown",
   "id": "2ac7b458-0b78-4441-91c0-369aea7065cd",
   "metadata": {},
   "source": [
    "# 6. Write a python program to print the fibonacci sequence up to a specific number."
   ]
  },
  {
   "cell_type": "code",
   "execution_count": 7,
   "id": "a76b5cb7-a7c9-4b56-bffe-d49049f1a3fa",
   "metadata": {},
   "outputs": [
    {
     "name": "stdin",
     "output_type": "stream",
     "text": [
      "Enter the number of terms: 5\n"
     ]
    },
    {
     "name": "stdout",
     "output_type": "stream",
     "text": [
      "0 1 1 2 3 "
     ]
    }
   ],
   "source": [
    "n_terms = int(input(\"Enter the number of terms:\"))\n",
    "if n_terms<1:\n",
    "    print(\"Enter the non-negative number.\")\n",
    "else:\n",
    "    num1 , num2 = 0,1\n",
    "    for i in range(n_terms):\n",
    "        print(num1,end=\" \")\n",
    "        next_fib = num1 + num2\n",
    "        num1 = num2\n",
    "        num2 = next_fib"
   ]
  },
  {
   "cell_type": "markdown",
   "id": "98f1b073-5323-4377-a2bb-a69dcadebba1",
   "metadata": {},
   "source": [
    "# 7. Write a python program to check if a given number is prime or not using a for loop."
   ]
  },
  {
   "cell_type": "code",
   "execution_count": 45,
   "id": "30687965-e13b-4d41-b942-3ecf697f1afc",
   "metadata": {},
   "outputs": [
    {
     "name": "stdin",
     "output_type": "stream",
     "text": [
      "Enter a num to check prime or not:  23\n"
     ]
    },
    {
     "name": "stdout",
     "output_type": "stream",
     "text": [
      "23 is a prime number.\n"
     ]
    }
   ],
   "source": [
    "g_num = int(input(\"Enter a num to check prime or not: \"))\n",
    "is_prime = True\n",
    "if g_num <= 1:\n",
    "    print(\"Enter a number greater than 1.\")\n",
    "    is_prime = False \n",
    "else:\n",
    "    for i in range(2, g_num):\n",
    "        if g_num % i == 0:\n",
    "            is_prime = False\n",
    "            break \n",
    "if is_prime:\n",
    "    print(g_num, \"is a prime number.\")\n",
    "else:\n",
    "    print(g_num, \"is not a prime number.\")"
   ]
  },
  {
   "cell_type": "markdown",
   "id": "10ea8f2a-b6c7-4dff-b800-e1fe2930230b",
   "metadata": {},
   "source": [
    "# 8. Write a python program to find the largest element in a list using a for loop."
   ]
  },
  {
   "cell_type": "code",
   "execution_count": 46,
   "id": "58072085-282b-496f-ba63-adffd5d0f1a3",
   "metadata": {},
   "outputs": [
    {
     "name": "stdout",
     "output_type": "stream",
     "text": [
      "Largest element in list1:98\n"
     ]
    }
   ],
   "source": [
    "list1 = [1,2,3,4,3,2,3,6,0,98,88]\n",
    "largest=0\n",
    "for i in list1:\n",
    "    if largest<i:\n",
    "        largest=i\n",
    "print(f\"Largest element in list1:{largest}\")"
   ]
  },
  {
   "cell_type": "markdown",
   "id": "9f29df95-51e4-4991-bfeb-9cbd077371f6",
   "metadata": {},
   "source": [
    "# 9. Write a python program to reverse a given string using a for loop."
   ]
  },
  {
   "cell_type": "code",
   "execution_count": 48,
   "id": "590b0b9c-7798-4e6a-8011-dacfb3593519",
   "metadata": {},
   "outputs": [
    {
     "name": "stdout",
     "output_type": "stream",
     "text": [
      "tihskiD\n"
     ]
    }
   ],
   "source": [
    "input_str =\"Dikshit\"\n",
    "rev_str =\"\"\n",
    "for i in input_str:\n",
    "    rev_str=i+rev_str\n",
    "print(rev_str)\n",
    "\n"
   ]
  },
  {
   "cell_type": "markdown",
   "id": "f7cb26b6-c79a-468a-9b32-ec03709599f8",
   "metadata": {},
   "source": [
    "# 10. Write a python program to find the common elements between two lists using a for loop."
   ]
  },
  {
   "cell_type": "code",
   "execution_count": 49,
   "id": "7816d547-c226-48c3-b5aa-5b5a6ba603ce",
   "metadata": {},
   "outputs": [
    {
     "name": "stdout",
     "output_type": "stream",
     "text": [
      "8\n",
      "1\n",
      "2\n",
      "7\n",
      "9\n",
      "[8, 1, 2, 7, 9]\n",
      "sorted_common_numbers: [1, 2, 7, 8, 9]\n"
     ]
    }
   ],
   "source": [
    "list1 = [8,1,4,5,6,2,7,9]\n",
    "list2 = [1,2,3,8,9,2,7]\n",
    "\n",
    "common_num = []\n",
    "for i in list1:\n",
    "    if i in list2:\n",
    "        print(i)\n",
    "        common_num.append(i)\n",
    "print(common_num)\n",
    "print(\"sorted_common_numbers:\",sorted(list(common_num)))"
   ]
  },
  {
   "cell_type": "code",
   "execution_count": null,
   "id": "3960e955-4c12-47e1-9efb-bbb38805047f",
   "metadata": {},
   "outputs": [],
   "source": [
    "\n"
   ]
  }
 ],
 "metadata": {
  "kernelspec": {
   "display_name": "Python [conda env:base] *",
   "language": "python",
   "name": "conda-base-py"
  },
  "language_info": {
   "codemirror_mode": {
    "name": "ipython",
    "version": 3
   },
   "file_extension": ".py",
   "mimetype": "text/x-python",
   "name": "python",
   "nbconvert_exporter": "python",
   "pygments_lexer": "ipython3",
   "version": "3.13.5"
  }
 },
 "nbformat": 4,
 "nbformat_minor": 5
}
