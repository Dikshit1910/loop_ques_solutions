{
 "cells": [
  {
   "cell_type": "raw",
   "id": "dea6496b-1032-4908-bc7f-88ca1369834e",
   "metadata": {},
   "source": [
    "# for loop\n",
    "on iterable varibale:\n",
    "#string,list,tuple,set,dict,array,range function"
   ]
  },
  {
   "cell_type": "code",
   "execution_count": 1,
   "id": "2a773e22-3a72-4e74-ada0-bfdd10f6867b",
   "metadata": {},
   "outputs": [
    {
     "name": "stdout",
     "output_type": "stream",
     "text": [
      "0\n",
      "now\n",
      "1\n",
      "2\n",
      "now\n",
      "3\n",
      "now\n",
      "4\n",
      "now\n",
      "hello\n"
     ]
    }
   ],
   "source": [
    "for i in range(5):\n",
    "    print(i)\n",
    "    if i == 1:\n",
    "        continue\n",
    "    else: \n",
    "        print(\"now\")\n",
    "print(\"hello\")"
   ]
  },
  {
   "cell_type": "code",
   "execution_count": 2,
   "id": "d14ed371-0f75-4cd9-8814-5bc43742db43",
   "metadata": {},
   "outputs": [
    {
     "name": "stdout",
     "output_type": "stream",
     "text": [
      "\n",
      "\n",
      "\n"
     ]
    }
   ],
   "source": [
    "indian_name = [[\"rohit\",\"pal\"],[\"dikshit\",\"pal\"],[\"rohan\",\"saini\"]]\n",
    "for first_name,last_name in indian_name:\n",
    "    print(f\"\")"
   ]
  },
  {
   "cell_type": "markdown",
   "id": "b2faec46-65f9-418e-a640-214714ea91d5",
   "metadata": {},
   "source": [
    "# while loop\n",
    "# while condition:\n",
    "    #block of code"
   ]
  },
  {
   "cell_type": "code",
   "execution_count": 3,
   "id": "ff989ced-de86-4663-9d5c-0cfb89d46b1e",
   "metadata": {},
   "outputs": [
    {
     "name": "stdout",
     "output_type": "stream",
     "text": [
      "1\n",
      "2\n",
      "3\n",
      "4\n"
     ]
    }
   ],
   "source": [
    "i = 1\n",
    "while i<5:\n",
    "    print(i)\n",
    "    i += 1"
   ]
  },
  {
   "cell_type": "code",
   "execution_count": 4,
   "id": "8cbf189d-d276-4b18-8fb7-d963b3a81336",
   "metadata": {},
   "outputs": [
    {
     "name": "stdin",
     "output_type": "stream",
     "text": [
      "Enter the password vhgh\n",
      "Wrong pass try again! ghgh\n",
      "Wrong pass try again! 1234\n"
     ]
    },
    {
     "name": "stdout",
     "output_type": "stream",
     "text": [
      "correct pass\n",
      "otp for reset pass 8459\n"
     ]
    }
   ],
   "source": [
    "import random\n",
    "database_password=\"1234\"\n",
    "password_by_user = input(\"Enter the password\")\n",
    "attempt =1\n",
    "while database_password != password_by_user:\n",
    "    password_by_user = input(\"Wrong pass try again!\")\n",
    "    attempt += 1\n",
    "    if attempt == 4:\n",
    "        print(\"all attempt are gone\")\n",
    "        print(\"you are blocked\")\n",
    "        break\n",
    "else:\n",
    "        print(\"correct pass\")\n",
    "        otp = random.randint(1000,9999)\n",
    "        print(\"otp for reset pass\",otp)\n",
    "        "
   ]
  },
  {
   "cell_type": "code",
   "execution_count": 5,
   "id": "3d2e8a02-d88f-4bc1-9b4d-e6bb6a1192fe",
   "metadata": {},
   "outputs": [
    {
     "name": "stdin",
     "output_type": "stream",
     "text": [
      "Enter the otp: 8459\n"
     ]
    }
   ],
   "source": [
    "import webbrowser\n",
    "OTP = int(input(\"Enter the otp:\"))\n",
    "if otp == OTP:\n",
    "    webbrowser.open(\"www.google.com\")\n",
    "else:\n",
    "    print(\"Wrong OTP\")"
   ]
  },
  {
   "cell_type": "code",
   "execution_count": null,
   "id": "22fca6c0-4494-4ea7-b51f-af8aed2afac5",
   "metadata": {},
   "outputs": [],
   "source": []
  },
  {
   "cell_type": "code",
   "execution_count": null,
   "id": "55b8752a-9689-48a2-8ae9-daada6a8be46",
   "metadata": {},
   "outputs": [],
   "source": []
  }
 ],
 "metadata": {
  "kernelspec": {
   "display_name": "Python [conda env:base] *",
   "language": "python",
   "name": "conda-base-py"
  },
  "language_info": {
   "codemirror_mode": {
    "name": "ipython",
    "version": 3
   },
   "file_extension": ".py",
   "mimetype": "text/x-python",
   "name": "python",
   "nbconvert_exporter": "python",
   "pygments_lexer": "ipython3",
   "version": "3.13.5"
  }
 },
 "nbformat": 4,
 "nbformat_minor": 5
}
